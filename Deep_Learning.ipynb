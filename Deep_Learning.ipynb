{
 "cells": [
  {
   "cell_type": "markdown",
   "metadata": {},
   "source": [
    "# ***Deep Learning***"
   ]
  },
  {
   "cell_type": "code",
   "execution_count": 88,
   "metadata": {},
   "outputs": [],
   "source": [
    "import numpy             as np\n",
    "import matplotlib.pyplot as plt\n",
    "from keras.datasets      import mnist # Números\n",
    "from keras.models        import Sequential\n",
    "from keras.layers        import Dense, Dropout\n",
    "from keras.utils         import np_utils\n",
    "from sklearn.metrics     import confusion_matrix"
   ]
  },
  {
   "cell_type": "markdown",
   "metadata": {},
   "source": [
    "## **Obtenção dos dados e divisão automática entre treinamento e teste**\n",
    "### - mnist faz a divisão automática"
   ]
  },
  {
   "cell_type": "code",
   "execution_count": 89,
   "metadata": {},
   "outputs": [],
   "source": [
    "(X_treinamento, y_treinamento), (X_teste, y_teste) = mnist.load_data()"
   ]
  },
  {
   "cell_type": "code",
   "execution_count": 90,
   "metadata": {},
   "outputs": [
    {
     "data": {
      "text/plain": [
       "Text(0.5, 1.0, '0')"
      ]
     },
     "execution_count": 90,
     "metadata": {},
     "output_type": "execute_result"
    },
    {
     "data": {
      "image/png": "[encoded data removed]",
      "text/plain": [
       "<Figure size 432x288 with 1 Axes>"
      ]
     },
     "metadata": {
      "needs_background": "light"
     },
     "output_type": "display_data"
    }
   ],
   "source": [
    "# Visualização de imagens específicas\n",
    "plt.imshow(X_treinamento[21], cmap = 'gray')\n",
    "plt.title(y_treinamento[21])"
   ]
  },
  {
   "cell_type": "markdown",
   "metadata": {},
   "source": [
    "## **Mudança de dimensão**\n",
    "### - Originalmente está em 28x28, mas precisamos 784"
   ]
  },
  {
   "cell_type": "code",
   "execution_count": 91,
   "metadata": {},
   "outputs": [
    {
     "data": {
      "text/plain": [
       "784"
      ]
     },
     "execution_count": 91,
     "metadata": {},
     "output_type": "execute_result"
    }
   ],
   "source": [
    "np.prod(X_teste.shape[1:])"
   ]
  },
  {
   "cell_type": "code",
   "execution_count": 92,
   "metadata": {},
   "outputs": [
    {
     "data": {
      "text/plain": [
       "array([  0,   0,   0,   0,   0,   0,   0,   0,   0,   0,   0,   0,   0,\n",
       "         0,   0,   0,   0,   0,   0,   0,   0,   0,   0,   0,   0,   0,\n",
       "         0,   0,   0,   0,   0,   0,   0,   0,   0,   0,   0,   0,   0,\n",
       "         0,   0,   0,   0,   0,   0,   0,   0,   0,   0,   0,   0,   0,\n",
       "         0,   0,   0,   0,   0,   0,   0,   0,   0,   0,   0,   0,   0,\n",
       "         0,   0,   0,   0,   0,   0,   0,   0,   0,   0,   0,   0,   0,\n",
       "         0,   0,   0,   0,   0,   0,   0,   0,   0,   0,   0,   0,   0,\n",
       "         0,   0,   0,   0,   0,   0,   0,   0,   0,   0,   0,   0,   0,\n",
       "         0,   0,   0,   0,   0,   0,   0,   0,   0,   0,   0,   0,   0,\n",
       "         0,   0,   0,   0,   0,   0,   0,   0,   0,   0,   0,   0,   0,\n",
       "         0,   0,   0,   0,   0,   0,   0,   0,   0,   0,   0,   0,   0,\n",
       "         0,   0,   0,   0,   0,   0,   0,   0,   0,   0,   0,   0,   0,\n",
       "         0,   0,   0,   0,   0,   0,   0,   0,   0,   0,   0,   0,   0,\n",
       "         0,   0,   0,   0,   0,   0,   0,   0,   0,   0,   0,   0,   0,\n",
       "         0,   0,   0,   0,   0,   0,   0,   0,   0,   0,   0,   0,   0,\n",
       "         0,   0,   0,   0,   0,   0,   0,  84, 185, 159, 151,  60,  36,\n",
       "         0,   0,   0,   0,   0,   0,   0,   0,   0,   0,   0,   0,   0,\n",
       "         0,   0,   0,   0,   0,   0,   0,   0,   0, 222, 254, 254, 254,\n",
       "       254, 241, 198, 198, 198, 198, 198, 198, 198, 198, 170,  52,   0,\n",
       "         0,   0,   0,   0,   0,   0,   0,   0,   0,   0,   0,  67, 114,\n",
       "        72, 114, 163, 227, 254, 225, 254, 254, 254, 250, 229, 254, 254,\n",
       "       140,   0,   0,   0,   0,   0,   0,   0,   0,   0,   0,   0,   0,\n",
       "         0,   0,   0,   0,   0,  17,  66,  14,  67,  67,  67,  59,  21,\n",
       "       236, 254, 106,   0,   0,   0,   0,   0,   0,   0,   0,   0,   0,\n",
       "         0,   0,   0,   0,   0,   0,   0,   0,   0,   0,   0,   0,   0,\n",
       "         0,  83, 253, 209,  18,   0,   0,   0,   0,   0,   0,   0,   0,\n",
       "         0,   0,   0,   0,   0,   0,   0,   0,   0,   0,   0,   0,   0,\n",
       "         0,   0,  22, 233, 255,  83,   0,   0,   0,   0,   0,   0,   0,\n",
       "         0,   0,   0,   0,   0,   0,   0,   0,   0,   0,   0,   0,   0,\n",
       "         0,   0,   0,   0, 129, 254, 238,  44,   0,   0,   0,   0,   0,\n",
       "         0,   0,   0,   0,   0,   0,   0,   0,   0,   0,   0,   0,   0,\n",
       "         0,   0,   0,   0,   0,  59, 249, 254,  62,   0,   0,   0,   0,\n",
       "         0,   0,   0,   0,   0,   0,   0,   0,   0,   0,   0,   0,   0,\n",
       "         0,   0,   0,   0,   0,   0,   0, 133, 254, 187,   5,   0,   0,\n",
       "         0,   0,   0,   0,   0,   0,   0,   0,   0,   0,   0,   0,   0,\n",
       "         0,   0,   0,   0,   0,   0,   0,   0,   9, 205, 248,  58,   0,\n",
       "         0,   0,   0,   0,   0,   0,   0,   0,   0,   0,   0,   0,   0,\n",
       "         0,   0,   0,   0,   0,   0,   0,   0,   0,   0, 126, 254, 182,\n",
       "         0,   0,   0,   0,   0,   0,   0,   0,   0,   0,   0,   0,   0,\n",
       "         0,   0,   0,   0,   0,   0,   0,   0,   0,   0,   0,  75, 251,\n",
       "       240,  57,   0,   0,   0,   0,   0,   0,   0,   0,   0,   0,   0,\n",
       "         0,   0,   0,   0,   0,   0,   0,   0,   0,   0,   0,   0,  19,\n",
       "       221, 254, 166,   0,   0,   0,   0,   0,   0,   0,   0,   0,   0,\n",
       "         0,   0,   0,   0,   0,   0,   0,   0,   0,   0,   0,   0,   0,\n",
       "         3, 203, 254, 219,  35,   0,   0,   0,   0,   0,   0,   0,   0,\n",
       "         0,   0,   0,   0,   0,   0,   0,   0,   0,   0,   0,   0,   0,\n",
       "         0,   0,  38, 254, 254,  77,   0,   0,   0,   0,   0,   0,   0,\n",
       "         0,   0,   0,   0,   0,   0,   0,   0,   0,   0,   0,   0,   0,\n",
       "         0,   0,   0,  31, 224, 254, 115,   1,   0,   0,   0,   0,   0,\n",
       "         0,   0,   0,   0,   0,   0,   0,   0,   0,   0,   0,   0,   0,\n",
       "         0,   0,   0,   0,   0, 133, 254, 254,  52,   0,   0,   0,   0,\n",
       "         0,   0,   0,   0,   0,   0,   0,   0,   0,   0,   0,   0,   0,\n",
       "         0,   0,   0,   0,   0,   0,  61, 242, 254, 254,  52,   0,   0,\n",
       "         0,   0,   0,   0,   0,   0,   0,   0,   0,   0,   0,   0,   0,\n",
       "         0,   0,   0,   0,   0,   0,   0,   0, 121, 254, 254, 219,  40,\n",
       "         0,   0,   0,   0,   0,   0,   0,   0,   0,   0,   0,   0,   0,\n",
       "         0,   0,   0,   0,   0,   0,   0,   0,   0,   0, 121, 254, 207,\n",
       "        18,   0,   0,   0,   0,   0,   0,   0,   0,   0,   0,   0,   0,\n",
       "         0,   0,   0,   0,   0,   0,   0,   0,   0,   0,   0,   0,   0,\n",
       "         0,   0,   0,   0,   0,   0,   0,   0,   0,   0,   0,   0,   0,\n",
       "         0,   0,   0,   0], dtype=uint8)"
      ]
     },
     "execution_count": 92,
     "metadata": {},
     "output_type": "execute_result"
    }
   ],
   "source": [
    "X_treinamento = X_treinamento.reshape((len(X_treinamento), np.prod(X_treinamento.shape[1:])))\n",
    "X_teste = X_teste.reshape((len(X_teste), np.prod(X_teste.shape[1:])))\n",
    "\n",
    "X_teste[0]"
   ]
  },
  {
   "cell_type": "markdown",
   "metadata": {},
   "source": [
    "## **Transformação dos dados para float**\n",
    "### - Para podermos normalizar os dados"
   ]
  },
  {
   "cell_type": "code",
   "execution_count": 93,
   "metadata": {},
   "outputs": [],
   "source": [
    "X_treinamento = X_treinamento.astype('float32')\n",
    "X_teste = X_teste.astype('float32')"
   ]
  },
  {
   "cell_type": "markdown",
   "metadata": {},
   "source": [
    "## **Normalização**\n",
    "### - 255 é o valor máximo de um pixel"
   ]
  },
  {
   "cell_type": "code",
   "execution_count": 94,
   "metadata": {},
   "outputs": [],
   "source": [
    "X_treinamento /= 255\n",
    "X_teste /= 255"
   ]
  },
  {
   "cell_type": "markdown",
   "metadata": {},
   "source": [
    "## **Transformação para o formato dummy**\n",
    "### - Temos 10 classes"
   ]
  },
  {
   "cell_type": "code",
   "execution_count": 95,
   "metadata": {},
   "outputs": [
    {
     "data": {
      "text/plain": [
       "array([0., 0., 0., 0., 0., 0., 0., 1., 0., 0.], dtype=float32)"
      ]
     },
     "execution_count": 95,
     "metadata": {},
     "output_type": "execute_result"
    }
   ],
   "source": [
    "y_treinamento = np_utils.to_categorical(y_treinamento, 10)\n",
    "y_teste = np_utils.to_categorical(y_teste, 10)\n",
    "\n",
    "y_teste[0]"
   ]
  },
  {
   "cell_type": "markdown",
   "metadata": {},
   "source": [
    "## **Estruturando a Rede neural**\n",
    "### - Estrutura da rede neural: 784 - 64 - 64 - 64 - 10\n",
    "### - Dropout é utilizado para zerar uma porcentagem dos neurônios, para evitar o overfitting"
   ]
  },
  {
   "cell_type": "code",
   "execution_count": 96,
   "metadata": {},
   "outputs": [],
   "source": [
    "modelo = Sequential()\n",
    "\n",
    "modelo.add(Dense(units = 64, activation = 'relu', input_dim = 784))\n",
    "modelo.add(Dropout(0.2)) # 20% dos dados da camada serão zerados\n",
    "\n",
    "modelo.add(Dense(units = 64, activation = 'relu'))\n",
    "modelo.add(Dropout(0.2))\n",
    "\n",
    "modelo.add(Dense(units = 64, activation = 'relu'))\n",
    "modelo.add(Dropout(0.2))\n",
    "\n",
    "# Camada de saída com 10 unidades, pois temos 10 opções de números, softmax para probabilidade de caracteres\n",
    "modelo.add(Dense(units = 10, activation = 'softmax'))"
   ]
  },
  {
   "cell_type": "code",
   "execution_count": 97,
   "metadata": {},
   "outputs": [
    {
     "name": "stdout",
     "output_type": "stream",
     "text": [
      "Model: \"sequential_2\"\n",
      "_________________________________________________________________\n",
      " Layer (type)                Output Shape              Param #   \n",
      "=================================================================\n",
      " dense_8 (Dense)             (None, 64)                50240     \n",
      "                                                                 \n",
      " dropout_6 (Dropout)         (None, 64)                0         \n",
      "                                                                 \n",
      " dense_9 (Dense)             (None, 64)                4160      \n",
      "                                                                 \n",
      " dropout_7 (Dropout)         (None, 64)                0         \n",
      "                                                                 \n",
      " dense_10 (Dense)            (None, 64)                4160      \n",
      "                                                                 \n",
      " dropout_8 (Dropout)         (None, 64)                0         \n",
      "                                                                 \n",
      " dense_11 (Dense)            (None, 10)                650       \n",
      "                                                                 \n",
      "=================================================================\n",
      "Total params: 59,210\n",
      "Trainable params: 59,210\n",
      "Non-trainable params: 0\n",
      "_________________________________________________________________\n"
     ]
    }
   ],
   "source": [
    "modelo.summary()"
   ]
  },
  {
   "cell_type": "markdown",
   "metadata": {},
   "source": [
    "## **Configuração da Rede Neural e Treinamento**\n",
    "### - Utilizamos a base de dados de validação\n",
    "### - Na variável histórico temos os históricos das execuções (erro e accuracy)"
   ]
  },
  {
   "cell_type": "code",
   "execution_count": 98,
   "metadata": {},
   "outputs": [
    {
     "name": "stdout",
     "output_type": "stream",
     "text": [
      "Epoch 1/100\n",
      "1875/1875 [==============================] - 2s 1ms/step - loss: 0.4507 - accuracy: 0.8631 - val_loss: 0.1670 - val_accuracy: 0.9494\n",
      "Epoch 2/100\n",
      "1875/1875 [==============================] - 2s 874us/step - loss: 0.2285 - accuracy: 0.9343 - val_loss: 0.1293 - val_accuracy: 0.9619\n",
      "Epoch 3/100\n",
      "1875/1875 [==============================] - 2s 853us/step - loss: 0.1900 - accuracy: 0.9451 - val_loss: 0.1084 - val_accuracy: 0.9679\n",
      "Epoch 4/100\n",
      "1875/1875 [==============================] - 2s 846us/step - loss: 0.1648 - accuracy: 0.9524 - val_loss: 0.0996 - val_accuracy: 0.9708\n",
      "Epoch 5/100\n",
      "1875/1875 [==============================] - 2s 880us/step - loss: 0.1509 - accuracy: 0.9554 - val_loss: 0.0974 - val_accuracy: 0.9697\n",
      "Epoch 6/100\n",
      "1875/1875 [==============================] - 2s 851us/step - loss: 0.1384 - accuracy: 0.9593 - val_loss: 0.0916 - val_accuracy: 0.9741\n",
      "Epoch 7/100\n",
      "1875/1875 [==============================] - 2s 861us/step - loss: 0.1334 - accuracy: 0.9606 - val_loss: 0.0936 - val_accuracy: 0.9725\n",
      "Epoch 8/100\n",
      "1875/1875 [==============================] - 2s 894us/step - loss: 0.1214 - accuracy: 0.9639 - val_loss: 0.0896 - val_accuracy: 0.9736\n",
      "Epoch 9/100\n",
      "1875/1875 [==============================] - 2s 868us/step - loss: 0.1167 - accuracy: 0.9653 - val_loss: 0.0903 - val_accuracy: 0.9747\n",
      "Epoch 10/100\n",
      "1875/1875 [==============================] - 2s 859us/step - loss: 0.1143 - accuracy: 0.9660 - val_loss: 0.0864 - val_accuracy: 0.9753\n",
      "Epoch 11/100\n",
      "1875/1875 [==============================] - 2s 907us/step - loss: 0.1089 - accuracy: 0.9673 - val_loss: 0.0891 - val_accuracy: 0.9735\n",
      "Epoch 12/100\n",
      "1875/1875 [==============================] - 2s 903us/step - loss: 0.1061 - accuracy: 0.9685 - val_loss: 0.0853 - val_accuracy: 0.9754\n",
      "Epoch 13/100\n",
      "1875/1875 [==============================] - 2s 1ms/step - loss: 0.1028 - accuracy: 0.9688 - val_loss: 0.0849 - val_accuracy: 0.9757\n",
      "Epoch 14/100\n",
      "1875/1875 [==============================] - 2s 1ms/step - loss: 0.0991 - accuracy: 0.9701 - val_loss: 0.0905 - val_accuracy: 0.9739\n",
      "Epoch 15/100\n",
      "1875/1875 [==============================] - 2s 977us/step - loss: 0.0960 - accuracy: 0.9700 - val_loss: 0.0895 - val_accuracy: 0.9742\n",
      "Epoch 16/100\n",
      "1875/1875 [==============================] - 2s 954us/step - loss: 0.0959 - accuracy: 0.9708 - val_loss: 0.0890 - val_accuracy: 0.9763\n",
      "Epoch 17/100\n",
      "1875/1875 [==============================] - 2s 880us/step - loss: 0.0956 - accuracy: 0.9711 - val_loss: 0.0847 - val_accuracy: 0.9764\n",
      "Epoch 18/100\n",
      "1875/1875 [==============================] - 2s 850us/step - loss: 0.0896 - accuracy: 0.9729 - val_loss: 0.0832 - val_accuracy: 0.9786\n",
      "Epoch 19/100\n",
      "1875/1875 [==============================] - 2s 961us/step - loss: 0.0865 - accuracy: 0.9738 - val_loss: 0.0855 - val_accuracy: 0.9770\n",
      "Epoch 20/100\n",
      "1875/1875 [==============================] - 2s 1ms/step - loss: 0.0888 - accuracy: 0.9726 - val_loss: 0.0849 - val_accuracy: 0.9766\n",
      "Epoch 21/100\n",
      "1875/1875 [==============================] - 2s 1ms/step - loss: 0.0867 - accuracy: 0.9725 - val_loss: 0.0875 - val_accuracy: 0.9766\n",
      "Epoch 22/100\n",
      "1875/1875 [==============================] - 2s 944us/step - loss: 0.0845 - accuracy: 0.9740 - val_loss: 0.0913 - val_accuracy: 0.9758\n",
      "Epoch 23/100\n",
      "1875/1875 [==============================] - 2s 883us/step - loss: 0.0847 - accuracy: 0.9746 - val_loss: 0.0837 - val_accuracy: 0.9776\n",
      "Epoch 24/100\n",
      "1875/1875 [==============================] - 2s 888us/step - loss: 0.0841 - accuracy: 0.9740 - val_loss: 0.0916 - val_accuracy: 0.9749\n",
      "Epoch 25/100\n",
      "1875/1875 [==============================] - 2s 852us/step - loss: 0.0784 - accuracy: 0.9763 - val_loss: 0.0823 - val_accuracy: 0.9774\n",
      "Epoch 26/100\n",
      "1875/1875 [==============================] - 2s 852us/step - loss: 0.0787 - accuracy: 0.9760 - val_loss: 0.0862 - val_accuracy: 0.9766\n",
      "Epoch 27/100\n",
      "1875/1875 [==============================] - 2s 871us/step - loss: 0.0769 - accuracy: 0.9759 - val_loss: 0.0976 - val_accuracy: 0.9742\n",
      "Epoch 28/100\n",
      "1875/1875 [==============================] - 2s 908us/step - loss: 0.0780 - accuracy: 0.9759 - val_loss: 0.0859 - val_accuracy: 0.9761\n",
      "Epoch 29/100\n",
      "1875/1875 [==============================] - 2s 868us/step - loss: 0.0786 - accuracy: 0.9755 - val_loss: 0.0912 - val_accuracy: 0.9755\n",
      "Epoch 30/100\n",
      "1875/1875 [==============================] - 2s 875us/step - loss: 0.0750 - accuracy: 0.9770 - val_loss: 0.0887 - val_accuracy: 0.9760\n",
      "Epoch 31/100\n",
      "1875/1875 [==============================] - 2s 851us/step - loss: 0.0729 - accuracy: 0.9776 - val_loss: 0.0863 - val_accuracy: 0.9779\n",
      "Epoch 32/100\n",
      "1875/1875 [==============================] - 2s 845us/step - loss: 0.0764 - accuracy: 0.9772 - val_loss: 0.0914 - val_accuracy: 0.9748\n",
      "Epoch 33/100\n",
      "1875/1875 [==============================] - 2s 881us/step - loss: 0.0747 - accuracy: 0.9767 - val_loss: 0.0936 - val_accuracy: 0.9773\n",
      "Epoch 34/100\n",
      "1875/1875 [==============================] - 2s 964us/step - loss: 0.0711 - accuracy: 0.9785 - val_loss: 0.0976 - val_accuracy: 0.9760\n",
      "Epoch 35/100\n",
      "1875/1875 [==============================] - 2s 932us/step - loss: 0.0701 - accuracy: 0.9786 - val_loss: 0.0913 - val_accuracy: 0.9772\n",
      "Epoch 36/100\n",
      "1875/1875 [==============================] - 2s 1ms/step - loss: 0.0686 - accuracy: 0.9791 - val_loss: 0.0915 - val_accuracy: 0.9768\n",
      "Epoch 37/100\n",
      "1875/1875 [==============================] - 2s 947us/step - loss: 0.0696 - accuracy: 0.9785 - val_loss: 0.0891 - val_accuracy: 0.9771\n",
      "Epoch 38/100\n",
      "1875/1875 [==============================] - 2s 870us/step - loss: 0.0670 - accuracy: 0.9794 - val_loss: 0.0954 - val_accuracy: 0.9770\n",
      "Epoch 39/100\n",
      "1875/1875 [==============================] - 2s 923us/step - loss: 0.0702 - accuracy: 0.9784 - val_loss: 0.0933 - val_accuracy: 0.9761\n",
      "Epoch 40/100\n",
      "1875/1875 [==============================] - 2s 861us/step - loss: 0.0699 - accuracy: 0.9790 - val_loss: 0.0933 - val_accuracy: 0.9771\n",
      "Epoch 41/100\n",
      "1875/1875 [==============================] - ETA: 0s - loss: 0.0695 - accuracy: 0.97 - 2s 881us/step - loss: 0.0690 - accuracy: 0.9789 - val_loss: 0.0938 - val_accuracy: 0.9769\n",
      "Epoch 42/100\n",
      "1875/1875 [==============================] - 2s 882us/step - loss: 0.0659 - accuracy: 0.9798 - val_loss: 0.1022 - val_accuracy: 0.9770\n",
      "Epoch 43/100\n",
      "1875/1875 [==============================] - 2s 877us/step - loss: 0.0683 - accuracy: 0.9794 - val_loss: 0.0887 - val_accuracy: 0.9762\n",
      "Epoch 44/100\n",
      "1875/1875 [==============================] - 2s 855us/step - loss: 0.0661 - accuracy: 0.9797 - val_loss: 0.0852 - val_accuracy: 0.9795\n",
      "Epoch 45/100\n",
      "1875/1875 [==============================] - 2s 856us/step - loss: 0.0677 - accuracy: 0.9793 - val_loss: 0.0960 - val_accuracy: 0.9769\n",
      "Epoch 46/100\n",
      "1875/1875 [==============================] - 2s 845us/step - loss: 0.0636 - accuracy: 0.9801 - val_loss: 0.0914 - val_accuracy: 0.9767\n",
      "Epoch 47/100\n",
      "1875/1875 [==============================] - 2s 877us/step - loss: 0.0650 - accuracy: 0.9800 - val_loss: 0.0926 - val_accuracy: 0.9780\n",
      "Epoch 48/100\n",
      "1875/1875 [==============================] - 2s 876us/step - loss: 0.0636 - accuracy: 0.9804 - val_loss: 0.0889 - val_accuracy: 0.9769\n",
      "Epoch 49/100\n",
      "1875/1875 [==============================] - 2s 919us/step - loss: 0.0617 - accuracy: 0.9812 - val_loss: 0.0866 - val_accuracy: 0.9773\n",
      "Epoch 50/100\n",
      "1875/1875 [==============================] - 2s 895us/step - loss: 0.0622 - accuracy: 0.9808 - val_loss: 0.0952 - val_accuracy: 0.9772\n",
      "Epoch 51/100\n",
      "1875/1875 [==============================] - 2s 883us/step - loss: 0.0632 - accuracy: 0.9803 - val_loss: 0.0954 - val_accuracy: 0.9769\n",
      "Epoch 52/100\n",
      "1875/1875 [==============================] - 2s 884us/step - loss: 0.0611 - accuracy: 0.9811 - val_loss: 0.0960 - val_accuracy: 0.9760\n",
      "Epoch 53/100\n",
      "1875/1875 [==============================] - 2s 860us/step - loss: 0.0606 - accuracy: 0.9821 - val_loss: 0.1017 - val_accuracy: 0.9764\n",
      "Epoch 54/100\n",
      "1875/1875 [==============================] - 2s 890us/step - loss: 0.0608 - accuracy: 0.9808 - val_loss: 0.0997 - val_accuracy: 0.9767\n",
      "Epoch 55/100\n",
      "1875/1875 [==============================] - 2s 893us/step - loss: 0.0595 - accuracy: 0.9817 - val_loss: 0.0994 - val_accuracy: 0.9777\n",
      "Epoch 56/100\n",
      "1875/1875 [==============================] - 2s 882us/step - loss: 0.0609 - accuracy: 0.9816 - val_loss: 0.0917 - val_accuracy: 0.9765\n",
      "Epoch 57/100\n",
      "1875/1875 [==============================] - 2s 882us/step - loss: 0.0610 - accuracy: 0.9811 - val_loss: 0.0990 - val_accuracy: 0.9759\n",
      "Epoch 58/100\n",
      "1875/1875 [==============================] - 2s 848us/step - loss: 0.0584 - accuracy: 0.9821 - val_loss: 0.0933 - val_accuracy: 0.9776\n",
      "Epoch 59/100\n",
      "1875/1875 [==============================] - 2s 871us/step - loss: 0.0589 - accuracy: 0.9825 - val_loss: 0.1003 - val_accuracy: 0.9765\n",
      "Epoch 60/100\n",
      "1875/1875 [==============================] - 2s 945us/step - loss: 0.0618 - accuracy: 0.9813 - val_loss: 0.0946 - val_accuracy: 0.9779\n",
      "Epoch 61/100\n",
      "1875/1875 [==============================] - 2s 939us/step - loss: 0.0582 - accuracy: 0.9822 - val_loss: 0.0926 - val_accuracy: 0.9777\n",
      "Epoch 62/100\n",
      "1875/1875 [==============================] - 2s 852us/step - loss: 0.0599 - accuracy: 0.9817 - val_loss: 0.0987 - val_accuracy: 0.9764\n",
      "Epoch 63/100\n",
      "1875/1875 [==============================] - 2s 869us/step - loss: 0.0582 - accuracy: 0.9825 - val_loss: 0.0971 - val_accuracy: 0.9770\n",
      "Epoch 64/100\n",
      "1875/1875 [==============================] - 2s 913us/step - loss: 0.0572 - accuracy: 0.9828 - val_loss: 0.1001 - val_accuracy: 0.9765\n",
      "Epoch 65/100\n",
      "1875/1875 [==============================] - 2s 960us/step - loss: 0.0587 - accuracy: 0.9822 - val_loss: 0.0939 - val_accuracy: 0.9779\n",
      "Epoch 66/100\n",
      "1875/1875 [==============================] - 2s 937us/step - loss: 0.0585 - accuracy: 0.9823 - val_loss: 0.1003 - val_accuracy: 0.9769\n",
      "Epoch 67/100\n",
      "1875/1875 [==============================] - 2s 1ms/step - loss: 0.0581 - accuracy: 0.9823 - val_loss: 0.0980 - val_accuracy: 0.9781\n",
      "Epoch 68/100\n",
      "1875/1875 [==============================] - 2s 996us/step - loss: 0.0556 - accuracy: 0.9829 - val_loss: 0.1016 - val_accuracy: 0.9770\n",
      "Epoch 69/100\n",
      "1875/1875 [==============================] - 2s 916us/step - loss: 0.0586 - accuracy: 0.9816 - val_loss: 0.0972 - val_accuracy: 0.9754\n",
      "Epoch 70/100\n",
      "1875/1875 [==============================] - 2s 909us/step - loss: 0.0566 - accuracy: 0.9826 - val_loss: 0.1028 - val_accuracy: 0.9752\n",
      "Epoch 71/100\n",
      "1875/1875 [==============================] - 2s 1ms/step - loss: 0.0573 - accuracy: 0.9826 - val_loss: 0.0964 - val_accuracy: 0.9776\n",
      "Epoch 72/100\n",
      "1875/1875 [==============================] - 2s 1ms/step - loss: 0.0537 - accuracy: 0.9834 - val_loss: 0.1051 - val_accuracy: 0.9771\n",
      "Epoch 73/100\n",
      "1875/1875 [==============================] - 2s 976us/step - loss: 0.0543 - accuracy: 0.9837 - val_loss: 0.0976 - val_accuracy: 0.9772\n",
      "Epoch 74/100\n",
      "1875/1875 [==============================] - 2s 942us/step - loss: 0.0539 - accuracy: 0.9831 - val_loss: 0.0957 - val_accuracy: 0.9777\n",
      "Epoch 75/100\n",
      "1875/1875 [==============================] - 2s 897us/step - loss: 0.0536 - accuracy: 0.9834 - val_loss: 0.1073 - val_accuracy: 0.9771\n",
      "Epoch 76/100\n",
      "1875/1875 [==============================] - 2s 929us/step - loss: 0.0536 - accuracy: 0.9839 - val_loss: 0.1036 - val_accuracy: 0.9765\n",
      "Epoch 77/100\n",
      "1875/1875 [==============================] - 2s 926us/step - loss: 0.0534 - accuracy: 0.9832 - val_loss: 0.1033 - val_accuracy: 0.9744\n",
      "Epoch 78/100\n",
      "1875/1875 [==============================] - 2s 931us/step - loss: 0.0539 - accuracy: 0.9833 - val_loss: 0.1048 - val_accuracy: 0.9772\n",
      "Epoch 79/100\n",
      "1875/1875 [==============================] - 2s 898us/step - loss: 0.0541 - accuracy: 0.9836 - val_loss: 0.1079 - val_accuracy: 0.9762\n",
      "Epoch 80/100\n",
      "1875/1875 [==============================] - 2s 900us/step - loss: 0.0519 - accuracy: 0.9841 - val_loss: 0.1096 - val_accuracy: 0.9763\n",
      "Epoch 81/100\n",
      "1875/1875 [==============================] - 2s 896us/step - loss: 0.0536 - accuracy: 0.9837 - val_loss: 0.0968 - val_accuracy: 0.9777\n",
      "Epoch 82/100\n",
      "1875/1875 [==============================] - 2s 951us/step - loss: 0.0534 - accuracy: 0.9838 - val_loss: 0.1044 - val_accuracy: 0.9772\n",
      "Epoch 83/100\n",
      "1875/1875 [==============================] - 2s 881us/step - loss: 0.0523 - accuracy: 0.9841 - val_loss: 0.0980 - val_accuracy: 0.9775\n",
      "Epoch 84/100\n",
      "1875/1875 [==============================] - 2s 869us/step - loss: 0.0541 - accuracy: 0.9834 - val_loss: 0.0998 - val_accuracy: 0.9770\n",
      "Epoch 85/100\n",
      "1875/1875 [==============================] - 2s 862us/step - loss: 0.0502 - accuracy: 0.9843 - val_loss: 0.1002 - val_accuracy: 0.9777\n",
      "Epoch 86/100\n",
      "1875/1875 [==============================] - 2s 865us/step - loss: 0.0523 - accuracy: 0.9841 - val_loss: 0.0955 - val_accuracy: 0.9782\n",
      "Epoch 87/100\n",
      "1875/1875 [==============================] - 2s 891us/step - loss: 0.0518 - accuracy: 0.9839 - val_loss: 0.1037 - val_accuracy: 0.9784\n",
      "Epoch 88/100\n",
      "1875/1875 [==============================] - 2s 876us/step - loss: 0.0529 - accuracy: 0.9837 - val_loss: 0.0991 - val_accuracy: 0.9772\n",
      "Epoch 89/100\n",
      "1875/1875 [==============================] - 2s 877us/step - loss: 0.0502 - accuracy: 0.9850 - val_loss: 0.1000 - val_accuracy: 0.9788\n",
      "Epoch 90/100\n",
      "1875/1875 [==============================] - 2s 876us/step - loss: 0.0500 - accuracy: 0.9847 - val_loss: 0.1033 - val_accuracy: 0.9769\n",
      "Epoch 91/100\n",
      "1875/1875 [==============================] - 2s 900us/step - loss: 0.0505 - accuracy: 0.9849 - val_loss: 0.0965 - val_accuracy: 0.9770\n",
      "Epoch 92/100\n",
      "1875/1875 [==============================] - 2s 888us/step - loss: 0.0502 - accuracy: 0.9844 - val_loss: 0.0935 - val_accuracy: 0.9788\n",
      "Epoch 93/100\n",
      "1875/1875 [==============================] - 2s 899us/step - loss: 0.0521 - accuracy: 0.9850 - val_loss: 0.0998 - val_accuracy: 0.9770\n",
      "Epoch 94/100\n",
      "1875/1875 [==============================] - 2s 933us/step - loss: 0.0508 - accuracy: 0.9842 - val_loss: 0.1049 - val_accuracy: 0.9783\n",
      "Epoch 95/100\n",
      "1875/1875 [==============================] - 2s 940us/step - loss: 0.0522 - accuracy: 0.9846 - val_loss: 0.1051 - val_accuracy: 0.9774\n",
      "Epoch 96/100\n",
      "1875/1875 [==============================] - 2s 935us/step - loss: 0.0537 - accuracy: 0.9839 - val_loss: 0.1015 - val_accuracy: 0.9773\n",
      "Epoch 97/100\n",
      "1875/1875 [==============================] - 2s 868us/step - loss: 0.0483 - accuracy: 0.9847 - val_loss: 0.1074 - val_accuracy: 0.9775\n",
      "Epoch 98/100\n",
      "1875/1875 [==============================] - 2s 871us/step - loss: 0.0482 - accuracy: 0.9854 - val_loss: 0.1097 - val_accuracy: 0.9756\n",
      "Epoch 99/100\n",
      "1875/1875 [==============================] - 2s 871us/step - loss: 0.0473 - accuracy: 0.9848 - val_loss: 0.1082 - val_accuracy: 0.9752\n",
      "Epoch 100/100\n",
      "1875/1875 [==============================] - 2s 904us/step - loss: 0.0494 - accuracy: 0.9847 - val_loss: 0.1113 - val_accuracy: 0.9755\n"
     ]
    }
   ],
   "source": [
    "modelo.compile(optimizer = 'adam', loss = 'categorical_crossentropy',\n",
    "               metrics = ['accuracy'])\n",
    "\n",
    "historico = modelo.fit(X_treinamento, y_treinamento, epochs = 100,\n",
    "                       validation_data = (X_teste, y_teste))"
   ]
  },
  {
   "cell_type": "markdown",
   "metadata": {},
   "source": [
    "## **Visualização dos `erros` e `accuracy`**"
   ]
  },
  {
   "cell_type": "code",
   "execution_count": 99,
   "metadata": {},
   "outputs": [
    {
     "name": "stdout",
     "output_type": "stream",
     "text": [
      "dict_keys(['loss', 'accuracy', 'val_loss', 'val_accuracy'])\n"
     ]
    },
    {
     "data": {
      "text/plain": [
       "[<matplotlib.lines.Line2D at 0x225fb412970>]"
      ]
     },
     "execution_count": 99,
     "metadata": {},
     "output_type": "execute_result"
    },
    {
     "data": {
      "image/png": "[encoded data removed]",
      "text/plain": [
       "<Figure size 432x288 with 1 Axes>"
      ]
     },
     "metadata": {
      "needs_background": "light"
     },
     "output_type": "display_data"
    }
   ],
   "source": [
    "print(historico.history.keys())\n",
    "\n",
    "# Evolução do erro, azul\n",
    "plt.plot(historico.history['val_loss'])\n",
    "\n",
    "# Performance da rede\n",
    "plt.plot(historico.history['val_accuracy'])\n"
   ]
  },
  {
   "cell_type": "markdown",
   "metadata": {},
   "source": [
    "## **Obtenção das Previsões**"
   ]
  },
  {
   "cell_type": "code",
   "execution_count": 100,
   "metadata": {},
   "outputs": [
    {
     "data": {
      "text/plain": [
       "array([[1.9992750e-20, 6.4440266e-11, 5.7798596e-11, ..., 1.0000000e+00,\n",
       "        1.8316039e-19, 9.5590014e-10],\n",
       "       [1.4150252e-18, 3.1007159e-09, 1.0000000e+00, ..., 3.0890440e-10,\n",
       "        3.2761371e-14, 1.6019183e-17],\n",
       "       [9.0322206e-22, 1.0000000e+00, 5.1827327e-11, ..., 3.5610077e-09,\n",
       "        7.1719172e-11, 4.7362368e-18],\n",
       "       ...,\n",
       "       [1.8107840e-18, 2.1355329e-12, 8.1310958e-11, ..., 1.6223357e-09,\n",
       "        7.7843813e-13, 4.5366100e-08],\n",
       "       [5.9708489e-28, 3.6513263e-21, 1.2953418e-21, ..., 7.4128824e-23,\n",
       "        9.5933678e-19, 1.1857248e-20],\n",
       "       [3.4268002e-14, 3.2749544e-19, 1.9518199e-15, ..., 7.1929674e-20,\n",
       "        2.7922686e-17, 2.2472418e-23]], dtype=float32)"
      ]
     },
     "execution_count": 100,
     "metadata": {},
     "output_type": "execute_result"
    }
   ],
   "source": [
    "previsoes = modelo.predict(X_teste)\n",
    "previsoes"
   ]
  },
  {
   "cell_type": "markdown",
   "metadata": {},
   "source": [
    "## **Matriz de Confusão**"
   ]
  },
  {
   "cell_type": "code",
   "execution_count": 101,
   "metadata": {},
   "outputs": [
    {
     "data": {
      "text/plain": [
       "array([[ 969,    1,    1,    2,    0,    2,    3,    1,    1,    0],\n",
       "       [   0, 1123,    3,    1,    0,    1,    1,    1,    5,    0],\n",
       "       [   4,    1, 1013,    4,    2,    0,    1,    4,    3,    0],\n",
       "       [   3,    0,    5,  981,    0,   10,    0,    4,    1,    6],\n",
       "       [   1,    0,    4,    0,  954,    0,    5,    0,    1,   17],\n",
       "       [   3,    1,    0,    5,    1,  862,   11,    1,    5,    3],\n",
       "       [   8,    2,    0,    1,    3,    6,  937,    0,    1,    0],\n",
       "       [   0,    3,    8,    4,    2,    0,    0, 1006,    0,    5],\n",
       "       [   7,    2,    5,    2,    7,    6,    0,    5,  930,   10],\n",
       "       [   2,    4,    0,    6,    6,    7,    0,    2,    2,  980]],\n",
       "      dtype=int64)"
      ]
     },
     "execution_count": 101,
     "metadata": {},
     "output_type": "execute_result"
    }
   ],
   "source": [
    "y_teste_matriz = [np.argmax(t) for t in y_teste]\n",
    "y_previsoes_matriz = [np.argmax(t) for t in previsoes]\n",
    "\n",
    "confusao = confusion_matrix(y_teste_matriz, y_previsoes_matriz)\n",
    "confusao"
   ]
  },
  {
   "cell_type": "markdown",
   "metadata": {},
   "source": [
    "## **Testando modelo em produção**"
   ]
  },
  {
   "cell_type": "code",
   "execution_count": 102,
   "metadata": {},
   "outputs": [
    {
     "data": {
      "text/plain": [
       "array([0., 0., 0., 0., 1., 0., 0., 0., 0., 0.], dtype=float32)"
      ]
     },
     "execution_count": 102,
     "metadata": {},
     "output_type": "execute_result"
    }
   ],
   "source": [
    "# Previsão com um novo registro, convertendo o array para o formato de matriz\n",
    "# Número 4\n",
    "y_treinamento[20]"
   ]
  },
  {
   "cell_type": "code",
   "execution_count": 103,
   "metadata": {},
   "outputs": [
    {
     "data": {
      "text/plain": [
       "[4]"
      ]
     },
     "execution_count": 103,
     "metadata": {},
     "output_type": "execute_result"
    }
   ],
   "source": [
    "# Passo a mesma posição para o modelo prever\n",
    "novo = X_treinamento[20]\n",
    "\n",
    "# De matriz para vetor\n",
    "novo = np.expand_dims(novo, axis = 0) # Expande o tamanho do array\n",
    "\n",
    "# Previsao\n",
    "pred = modelo.predict(novo)\n",
    "\n",
    "# Maior valor\n",
    "pred = [np.argmax(pred) for t in pred]\n",
    "pred\n",
    "\n",
    "# PREDIÇÃO CORRETA"
   ]
  }
 ],
 "metadata": {
  "interpreter": {
   "hash": "343f115f40a8053497179efaaabbcede37074ddc2d78a1917bbcb3055274ce2f"
  },
  "kernelspec": {
   "display_name": "Python 3",
   "language": "python",
   "name": "python3"
  },
  "language_info": {
   "codemirror_mode": {
    "name": "ipython",
    "version": 3
   },
   "file_extension": ".py",
   "mimetype": "text/x-python",
   "name": "python",
   "nbconvert_exporter": "python",
   "pygments_lexer": "ipython3",
   "version": "3.8.8"
  }
 },
 "nbformat": 4,
 "nbformat_minor": 2
}
