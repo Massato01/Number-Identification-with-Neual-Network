{
  "cells": [
    {
      "cell_type": "markdown",
      "metadata": {
        "id": "view-in-github",
        "colab_type": "text"
      },
      "source": [
        "<a href=\"https://colab.research.google.com/github/Massato01/Number-Identification-with-Neual-Network/blob/main/Deep_Learning.ipynb\" target=\"_parent\"><img src=\"https://colab.research.google.com/assets/colab-badge.svg\" alt=\"Open In Colab\"/></a>"
      ]
    },
    {
      "cell_type": "markdown",
      "metadata": {
        "id": "RQXY6VCxSZiT"
      },
      "source": [
        "# ***Number Identification with Neural Network***"
      ]
    },
    {
      "cell_type": "code",
      "execution_count": 51,
      "metadata": {
        "id": "va9kku7xSZiW"
      },
      "outputs": [],
      "source": [
        "import numpy             as np\n",
        "import matplotlib.pyplot as plt\n",
        "from keras.datasets      import mnist # Numbers form 0 to 9\n",
        "from keras.models        import Sequential\n",
        "from keras.layers        import Dense, Dropout\n",
        "from keras.utils         import np_utils\n",
        "from sklearn.metrics     import confusion_matrix"
      ]
    },
    {
      "cell_type": "code",
      "execution_count": 52,
      "metadata": {
        "id": "aQ5zjxO5SZiY"
      },
      "outputs": [],
      "source": [
        "# mnist automaticly divides the data between TRAIN and TEST\n",
        "(X_train, y_train), (X_test, y_test) = mnist.load_data()"
      ]
    },
    {
      "cell_type": "code",
      "execution_count": 53,
      "metadata": {
        "colab": {
          "base_uri": "https://localhost:8080/",
          "height": 299
        },
        "id": "hw7tRfjTSZiY",
        "outputId": "46996b12-46e1-4f9b-e318-4330012f2cd3"
      },
      "outputs": [
        {
          "output_type": "execute_result",
          "data": {
            "text/plain": [
              "Text(0.5, 1.0, '0')"
            ]
          },
          "metadata": {},
          "execution_count": 53
        },
        {
          "output_type": "display_data",
          "data": {
            "text/plain": [
              "<Figure size 432x288 with 1 Axes>"
            ],
            "image/png": "[encoded data removed]"
          },
          "metadata": {
            "needs_background": "light"
          }
        }
      ],
      "source": [
        "# Visualizing specific images\n",
        "plt.imshow(X_train[21], cmap = 'gray')\n",
        "plt.title(y_train[21])"
      ]
    },
    {
      "cell_type": "code",
      "execution_count": 54,
      "metadata": {
        "colab": {
          "base_uri": "https://localhost:8080/"
        },
        "id": "832GpHVFSZiZ",
        "outputId": "030f156b-cd78-476c-844d-4a7d889d2797"
      },
      "outputs": [
        {
          "output_type": "execute_result",
          "data": {
            "text/plain": [
              "array([  0,   0,   0,   0,   0,   0,   0,   0,   0,   0,   0,   0,   0,\n",
              "         0,   0,   0,   0,   0,   0,   0,   0,   0,   0,   0,   0,   0,\n",
              "         0,   0,   0,   0,   0,   0,   0,   0,   0,   0,   0,   0,   0,\n",
              "         0,   0,   0,   0,   0,   0,   0,   0,   0,   0,   0,   0,   0,\n",
              "         0,   0,   0,   0,   0,   0,   0,   0,   0,   0,   0,   0,   0,\n",
              "         0,   0,   0,   0,   0,   0,   0,   0,   0,   0,   0,   0,   0,\n",
              "         0,   0,   0,   0,   0,   0,   0,   0,   0,   0,   0,   0,   0,\n",
              "         0,   0,   0,   0,   0,   0,   0,   0,   0,   0,   0,   0,   0,\n",
              "         0,   0,   0,   0,   0,   0,   0,   0,   0,   0,   0,   0,   0,\n",
              "         0,   0,   0,   0,   0,   0,   0,   0,   0,   0,   0,   0,   0,\n",
              "         0,   0,   0,   0,   0,   0,   0,   0,   0,   0,   0,   0,   0,\n",
              "         0,   0,   0,   0,   0,   0,   0,   0,   0,   0,   0,   0,   0,\n",
              "         0,   0,   0,   0,   0,   0,   0,   0,   0,   0,   0,   0,   0,\n",
              "         0,   0,   0,   0,   0,   0,   0,   0,   0,   0,   0,   0,   0,\n",
              "         0,   0,   0,   0,   0,   0,   0,   0,   0,   0,   0,   0,   0,\n",
              "         0,   0,   0,   0,   0,   0,   0,  84, 185, 159, 151,  60,  36,\n",
              "         0,   0,   0,   0,   0,   0,   0,   0,   0,   0,   0,   0,   0,\n",
              "         0,   0,   0,   0,   0,   0,   0,   0,   0, 222, 254, 254, 254,\n",
              "       254, 241, 198, 198, 198, 198, 198, 198, 198, 198, 170,  52,   0,\n",
              "         0,   0,   0,   0,   0,   0,   0,   0,   0,   0,   0,  67, 114,\n",
              "        72, 114, 163, 227, 254, 225, 254, 254, 254, 250, 229, 254, 254,\n",
              "       140,   0,   0,   0,   0,   0,   0,   0,   0,   0,   0,   0,   0,\n",
              "         0,   0,   0,   0,   0,  17,  66,  14,  67,  67,  67,  59,  21,\n",
              "       236, 254, 106,   0,   0,   0,   0,   0,   0,   0,   0,   0,   0,\n",
              "         0,   0,   0,   0,   0,   0,   0,   0,   0,   0,   0,   0,   0,\n",
              "         0,  83, 253, 209,  18,   0,   0,   0,   0,   0,   0,   0,   0,\n",
              "         0,   0,   0,   0,   0,   0,   0,   0,   0,   0,   0,   0,   0,\n",
              "         0,   0,  22, 233, 255,  83,   0,   0,   0,   0,   0,   0,   0,\n",
              "         0,   0,   0,   0,   0,   0,   0,   0,   0,   0,   0,   0,   0,\n",
              "         0,   0,   0,   0, 129, 254, 238,  44,   0,   0,   0,   0,   0,\n",
              "         0,   0,   0,   0,   0,   0,   0,   0,   0,   0,   0,   0,   0,\n",
              "         0,   0,   0,   0,   0,  59, 249, 254,  62,   0,   0,   0,   0,\n",
              "         0,   0,   0,   0,   0,   0,   0,   0,   0,   0,   0,   0,   0,\n",
              "         0,   0,   0,   0,   0,   0,   0, 133, 254, 187,   5,   0,   0,\n",
              "         0,   0,   0,   0,   0,   0,   0,   0,   0,   0,   0,   0,   0,\n",
              "         0,   0,   0,   0,   0,   0,   0,   0,   9, 205, 248,  58,   0,\n",
              "         0,   0,   0,   0,   0,   0,   0,   0,   0,   0,   0,   0,   0,\n",
              "         0,   0,   0,   0,   0,   0,   0,   0,   0,   0, 126, 254, 182,\n",
              "         0,   0,   0,   0,   0,   0,   0,   0,   0,   0,   0,   0,   0,\n",
              "         0,   0,   0,   0,   0,   0,   0,   0,   0,   0,   0,  75, 251,\n",
              "       240,  57,   0,   0,   0,   0,   0,   0,   0,   0,   0,   0,   0,\n",
              "         0,   0,   0,   0,   0,   0,   0,   0,   0,   0,   0,   0,  19,\n",
              "       221, 254, 166,   0,   0,   0,   0,   0,   0,   0,   0,   0,   0,\n",
              "         0,   0,   0,   0,   0,   0,   0,   0,   0,   0,   0,   0,   0,\n",
              "         3, 203, 254, 219,  35,   0,   0,   0,   0,   0,   0,   0,   0,\n",
              "         0,   0,   0,   0,   0,   0,   0,   0,   0,   0,   0,   0,   0,\n",
              "         0,   0,  38, 254, 254,  77,   0,   0,   0,   0,   0,   0,   0,\n",
              "         0,   0,   0,   0,   0,   0,   0,   0,   0,   0,   0,   0,   0,\n",
              "         0,   0,   0,  31, 224, 254, 115,   1,   0,   0,   0,   0,   0,\n",
              "         0,   0,   0,   0,   0,   0,   0,   0,   0,   0,   0,   0,   0,\n",
              "         0,   0,   0,   0,   0, 133, 254, 254,  52,   0,   0,   0,   0,\n",
              "         0,   0,   0,   0,   0,   0,   0,   0,   0,   0,   0,   0,   0,\n",
              "         0,   0,   0,   0,   0,   0,  61, 242, 254, 254,  52,   0,   0,\n",
              "         0,   0,   0,   0,   0,   0,   0,   0,   0,   0,   0,   0,   0,\n",
              "         0,   0,   0,   0,   0,   0,   0,   0, 121, 254, 254, 219,  40,\n",
              "         0,   0,   0,   0,   0,   0,   0,   0,   0,   0,   0,   0,   0,\n",
              "         0,   0,   0,   0,   0,   0,   0,   0,   0,   0, 121, 254, 207,\n",
              "        18,   0,   0,   0,   0,   0,   0,   0,   0,   0,   0,   0,   0,\n",
              "         0,   0,   0,   0,   0,   0,   0,   0,   0,   0,   0,   0,   0,\n",
              "         0,   0,   0,   0,   0,   0,   0,   0,   0,   0,   0,   0,   0,\n",
              "         0,   0,   0,   0], dtype=uint8)"
            ]
          },
          "metadata": {},
          "execution_count": 54
        }
      ],
      "source": [
        "# Changing the dimension --> originaly was 28x28, we need 784\n",
        "np.prod(X_test.shape[1:])\n",
        "\n",
        "# Formating the X train and Test data\n",
        "X_train = X_train.reshape((len(X_train), np.prod(X_train.shape[1:])))\n",
        "X_test = X_test.reshape((len(X_test), np.prod(X_test.shape[1:])))\n",
        "\n",
        "X_test[0]"
      ]
    },
    {
      "cell_type": "code",
      "execution_count": 55,
      "metadata": {
        "id": "-ExH7YUfSZia"
      },
      "outputs": [],
      "source": [
        "# Normalizing the data transforming into float type and dividing by 225\n",
        "X_train = X_train.astype('float32')\n",
        "X_test = X_test.astype('float32')\n",
        "\n",
        "# 255 is the max value for a pixel\n",
        "X_train /= 255\n",
        "X_test /= 255"
      ]
    },
    {
      "cell_type": "code",
      "execution_count": 56,
      "metadata": {
        "colab": {
          "base_uri": "https://localhost:8080/"
        },
        "id": "A6jSGJ30SZib",
        "outputId": "e5bcd8d7-6387-4e97-9e5e-c503e45ef65d"
      },
      "outputs": [
        {
          "output_type": "execute_result",
          "data": {
            "text/plain": [
              "array([0., 0., 0., 0., 0., 0., 0., 1., 0., 0.], dtype=float32)"
            ]
          },
          "metadata": {},
          "execution_count": 56
        }
      ],
      "source": [
        "# Transforming classes into DUMMY format (True = 1, False = 0)\n",
        "# 10 classes -> numbers from 0 to 9\n",
        "y_train = np_utils.to_categorical(y_train, 10)\n",
        "y_test = np_utils.to_categorical(y_test, 10)\n",
        "\n",
        "y_test[0]"
      ]
    },
    {
      "cell_type": "markdown",
      "source": [
        "## ***Structuring the Neural Network***"
      ],
      "metadata": {
        "id": "kBrM_kKxjr8i"
      }
    },
    {
      "cell_type": "code",
      "execution_count": 57,
      "metadata": {
        "id": "jVYK0D2WSZic"
      },
      "outputs": [],
      "source": [
        "# - Neural Network structure: 784 - 64 - 64 - 64 - 10\n",
        "# - Dropout it's used to avoid overffiting\n",
        "neural_network = Sequential()\n",
        "\n",
        "neural_network.add(Dense(units = 64, activation = 'relu', input_dim = 784))\n",
        "neural_network.add(Dropout(0.2)) # 20% dos dados da camada serão zerados\n",
        "\n",
        "neural_network.add(Dense(units = 64, activation = 'relu'))\n",
        "neural_network.add(Dropout(0.2))\n",
        "\n",
        "neural_network.add(Dense(units = 64, activation = 'relu'))\n",
        "neural_network.add(Dropout(0.2))\n",
        "\n",
        "# Camada de saída com 10 unidades, pois temos 10 opções de números, softmax para probabilidade de caracteres\n",
        "neural_network.add(Dense(units = 10, activation = 'softmax'))"
      ]
    },
    {
      "cell_type": "code",
      "execution_count": 58,
      "metadata": {
        "colab": {
          "base_uri": "https://localhost:8080/"
        },
        "id": "Eqv_lhC-SZic",
        "outputId": "c73dbcd1-3ecc-46df-8fde-badffaec98d7"
      },
      "outputs": [
        {
          "output_type": "stream",
          "name": "stdout",
          "text": [
            "Model: \"sequential_4\"\n",
            "_________________________________________________________________\n",
            " Layer (type)                Output Shape              Param #   \n",
            "=================================================================\n",
            " dense_16 (Dense)            (None, 64)                50240     \n",
            "                                                                 \n",
            " dropout_12 (Dropout)        (None, 64)                0         \n",
            "                                                                 \n",
            " dense_17 (Dense)            (None, 64)                4160      \n",
            "                                                                 \n",
            " dropout_13 (Dropout)        (None, 64)                0         \n",
            "                                                                 \n",
            " dense_18 (Dense)            (None, 64)                4160      \n",
            "                                                                 \n",
            " dropout_14 (Dropout)        (None, 64)                0         \n",
            "                                                                 \n",
            " dense_19 (Dense)            (None, 10)                650       \n",
            "                                                                 \n",
            "=================================================================\n",
            "Total params: 59,210\n",
            "Trainable params: 59,210\n",
            "Non-trainable params: 0\n",
            "_________________________________________________________________\n"
          ]
        }
      ],
      "source": [
        "neural_network.summary()"
      ]
    },
    {
      "cell_type": "markdown",
      "source": [
        "## ***Setting and Training the Neural Network***"
      ],
      "metadata": {
        "id": "DESW1sxJj2oc"
      }
    },
    {
      "cell_type": "code",
      "execution_count": 59,
      "metadata": {
        "colab": {
          "base_uri": "https://localhost:8080/"
        },
        "id": "YZuihaZuSZic",
        "outputId": "27fb4d24-9bd1-4407-dfbb-76092b4e06e4"
      },
      "outputs": [
        {
          "output_type": "stream",
          "name": "stdout",
          "text": [
            "Epoch 1/100\n",
            "1875/1875 [==============================] - 9s 4ms/step - loss: 0.4614 - accuracy: 0.8571 - val_loss: 0.1593 - val_accuracy: 0.9509\n",
            "Epoch 2/100\n",
            "1875/1875 [==============================] - 10s 5ms/step - loss: 0.2300 - accuracy: 0.9331 - val_loss: 0.1440 - val_accuracy: 0.9580\n",
            "Epoch 3/100\n",
            "1875/1875 [==============================] - 8s 4ms/step - loss: 0.1889 - accuracy: 0.9452 - val_loss: 0.1185 - val_accuracy: 0.9646\n",
            "Epoch 4/100\n",
            "1875/1875 [==============================] - 5s 3ms/step - loss: 0.1646 - accuracy: 0.9522 - val_loss: 0.1008 - val_accuracy: 0.9712\n",
            "Epoch 5/100\n",
            "1875/1875 [==============================] - 6s 3ms/step - loss: 0.1480 - accuracy: 0.9563 - val_loss: 0.0979 - val_accuracy: 0.9697\n",
            "Epoch 6/100\n",
            "1875/1875 [==============================] - 13s 7ms/step - loss: 0.1378 - accuracy: 0.9591 - val_loss: 0.0942 - val_accuracy: 0.9713\n",
            "Epoch 7/100\n",
            "1875/1875 [==============================] - 8s 4ms/step - loss: 0.1290 - accuracy: 0.9624 - val_loss: 0.0927 - val_accuracy: 0.9731\n",
            "Epoch 8/100\n",
            "1875/1875 [==============================] - 6s 3ms/step - loss: 0.1230 - accuracy: 0.9640 - val_loss: 0.0962 - val_accuracy: 0.9720\n",
            "Epoch 9/100\n",
            "1875/1875 [==============================] - 6s 3ms/step - loss: 0.1164 - accuracy: 0.9642 - val_loss: 0.0881 - val_accuracy: 0.9737\n",
            "Epoch 10/100\n",
            "1875/1875 [==============================] - 6s 3ms/step - loss: 0.1123 - accuracy: 0.9662 - val_loss: 0.0842 - val_accuracy: 0.9746\n",
            "Epoch 11/100\n",
            "1875/1875 [==============================] - 5s 3ms/step - loss: 0.1085 - accuracy: 0.9670 - val_loss: 0.0851 - val_accuracy: 0.9752\n",
            "Epoch 12/100\n",
            "1875/1875 [==============================] - 6s 3ms/step - loss: 0.1037 - accuracy: 0.9693 - val_loss: 0.0872 - val_accuracy: 0.9739\n",
            "Epoch 13/100\n",
            "1875/1875 [==============================] - 6s 3ms/step - loss: 0.0967 - accuracy: 0.9706 - val_loss: 0.0889 - val_accuracy: 0.9745\n",
            "Epoch 14/100\n",
            "1875/1875 [==============================] - 6s 3ms/step - loss: 0.0985 - accuracy: 0.9704 - val_loss: 0.0869 - val_accuracy: 0.9757\n",
            "Epoch 15/100\n",
            "1875/1875 [==============================] - 8s 4ms/step - loss: 0.0939 - accuracy: 0.9718 - val_loss: 0.0841 - val_accuracy: 0.9760\n",
            "Epoch 16/100\n",
            "1875/1875 [==============================] - 6s 3ms/step - loss: 0.0936 - accuracy: 0.9719 - val_loss: 0.0857 - val_accuracy: 0.9757\n",
            "Epoch 17/100\n",
            "1875/1875 [==============================] - 5s 3ms/step - loss: 0.0918 - accuracy: 0.9719 - val_loss: 0.0905 - val_accuracy: 0.9738\n",
            "Epoch 18/100\n",
            "1875/1875 [==============================] - 5s 3ms/step - loss: 0.0892 - accuracy: 0.9732 - val_loss: 0.0857 - val_accuracy: 0.9764\n",
            "Epoch 19/100\n",
            "1875/1875 [==============================] - 7s 4ms/step - loss: 0.0859 - accuracy: 0.9743 - val_loss: 0.0936 - val_accuracy: 0.9742\n",
            "Epoch 20/100\n",
            "1875/1875 [==============================] - 7s 3ms/step - loss: 0.0874 - accuracy: 0.9745 - val_loss: 0.0818 - val_accuracy: 0.9784\n",
            "Epoch 21/100\n",
            "1875/1875 [==============================] - 9s 5ms/step - loss: 0.0861 - accuracy: 0.9741 - val_loss: 0.0835 - val_accuracy: 0.9772\n",
            "Epoch 22/100\n",
            "1875/1875 [==============================] - 7s 4ms/step - loss: 0.0821 - accuracy: 0.9758 - val_loss: 0.0875 - val_accuracy: 0.9768\n",
            "Epoch 23/100\n",
            "1875/1875 [==============================] - 7s 4ms/step - loss: 0.0794 - accuracy: 0.9762 - val_loss: 0.0898 - val_accuracy: 0.9760\n",
            "Epoch 24/100\n",
            "1875/1875 [==============================] - 8s 4ms/step - loss: 0.0811 - accuracy: 0.9753 - val_loss: 0.0792 - val_accuracy: 0.9776\n",
            "Epoch 25/100\n",
            "1875/1875 [==============================] - 6s 3ms/step - loss: 0.0803 - accuracy: 0.9755 - val_loss: 0.0876 - val_accuracy: 0.9776\n",
            "Epoch 26/100\n",
            "1875/1875 [==============================] - 6s 3ms/step - loss: 0.0775 - accuracy: 0.9766 - val_loss: 0.0825 - val_accuracy: 0.9782\n",
            "Epoch 27/100\n",
            "1875/1875 [==============================] - 5s 3ms/step - loss: 0.0753 - accuracy: 0.9766 - val_loss: 0.0842 - val_accuracy: 0.9782\n",
            "Epoch 28/100\n",
            "1875/1875 [==============================] - 5s 3ms/step - loss: 0.0767 - accuracy: 0.9772 - val_loss: 0.0888 - val_accuracy: 0.9769\n",
            "Epoch 29/100\n",
            "1875/1875 [==============================] - 6s 3ms/step - loss: 0.0744 - accuracy: 0.9770 - val_loss: 0.0880 - val_accuracy: 0.9756\n",
            "Epoch 30/100\n",
            "1875/1875 [==============================] - 6s 3ms/step - loss: 0.0716 - accuracy: 0.9780 - val_loss: 0.0919 - val_accuracy: 0.9753\n",
            "Epoch 31/100\n",
            "1875/1875 [==============================] - 6s 3ms/step - loss: 0.0748 - accuracy: 0.9773 - val_loss: 0.0825 - val_accuracy: 0.9776\n",
            "Epoch 32/100\n",
            "1875/1875 [==============================] - 6s 3ms/step - loss: 0.0707 - accuracy: 0.9781 - val_loss: 0.0884 - val_accuracy: 0.9769\n",
            "Epoch 33/100\n",
            "1875/1875 [==============================] - 5s 3ms/step - loss: 0.0725 - accuracy: 0.9777 - val_loss: 0.0877 - val_accuracy: 0.9778\n",
            "Epoch 34/100\n",
            "1875/1875 [==============================] - 5s 3ms/step - loss: 0.0672 - accuracy: 0.9799 - val_loss: 0.0928 - val_accuracy: 0.9776\n",
            "Epoch 35/100\n",
            "1875/1875 [==============================] - 7s 4ms/step - loss: 0.0706 - accuracy: 0.9790 - val_loss: 0.0931 - val_accuracy: 0.9764\n",
            "Epoch 36/100\n",
            "1875/1875 [==============================] - 7s 4ms/step - loss: 0.0699 - accuracy: 0.9790 - val_loss: 0.0962 - val_accuracy: 0.9763\n",
            "Epoch 37/100\n",
            "1875/1875 [==============================] - 6s 3ms/step - loss: 0.0677 - accuracy: 0.9790 - val_loss: 0.0850 - val_accuracy: 0.9757\n",
            "Epoch 38/100\n",
            "1875/1875 [==============================] - 6s 3ms/step - loss: 0.0674 - accuracy: 0.9797 - val_loss: 0.0869 - val_accuracy: 0.9767\n",
            "Epoch 39/100\n",
            "1875/1875 [==============================] - 6s 3ms/step - loss: 0.0669 - accuracy: 0.9796 - val_loss: 0.0915 - val_accuracy: 0.9780\n",
            "Epoch 40/100\n",
            "1875/1875 [==============================] - 7s 4ms/step - loss: 0.0653 - accuracy: 0.9800 - val_loss: 0.0978 - val_accuracy: 0.9769\n",
            "Epoch 41/100\n",
            "1875/1875 [==============================] - 7s 4ms/step - loss: 0.0674 - accuracy: 0.9796 - val_loss: 0.0962 - val_accuracy: 0.9770\n",
            "Epoch 42/100\n",
            "1875/1875 [==============================] - 6s 3ms/step - loss: 0.0652 - accuracy: 0.9801 - val_loss: 0.0938 - val_accuracy: 0.9771\n",
            "Epoch 43/100\n",
            "1875/1875 [==============================] - 5s 3ms/step - loss: 0.0644 - accuracy: 0.9799 - val_loss: 0.0953 - val_accuracy: 0.9768\n",
            "Epoch 44/100\n",
            "1875/1875 [==============================] - 6s 3ms/step - loss: 0.0634 - accuracy: 0.9811 - val_loss: 0.0956 - val_accuracy: 0.9771\n",
            "Epoch 45/100\n",
            "1875/1875 [==============================] - 5s 3ms/step - loss: 0.0629 - accuracy: 0.9803 - val_loss: 0.0907 - val_accuracy: 0.9767\n",
            "Epoch 46/100\n",
            "1875/1875 [==============================] - 5s 3ms/step - loss: 0.0610 - accuracy: 0.9813 - val_loss: 0.0945 - val_accuracy: 0.9772\n",
            "Epoch 47/100\n",
            "1875/1875 [==============================] - 6s 3ms/step - loss: 0.0639 - accuracy: 0.9809 - val_loss: 0.0963 - val_accuracy: 0.9765\n",
            "Epoch 48/100\n",
            "1875/1875 [==============================] - 6s 3ms/step - loss: 0.0634 - accuracy: 0.9810 - val_loss: 0.0893 - val_accuracy: 0.9780\n",
            "Epoch 49/100\n",
            "1875/1875 [==============================] - 5s 3ms/step - loss: 0.0629 - accuracy: 0.9811 - val_loss: 0.0973 - val_accuracy: 0.9769\n",
            "Epoch 50/100\n",
            "1875/1875 [==============================] - 5s 3ms/step - loss: 0.0583 - accuracy: 0.9822 - val_loss: 0.0939 - val_accuracy: 0.9772\n",
            "Epoch 51/100\n",
            "1875/1875 [==============================] - 5s 3ms/step - loss: 0.0622 - accuracy: 0.9815 - val_loss: 0.1010 - val_accuracy: 0.9748\n",
            "Epoch 52/100\n",
            "1875/1875 [==============================] - 5s 3ms/step - loss: 0.0587 - accuracy: 0.9827 - val_loss: 0.0976 - val_accuracy: 0.9767\n",
            "Epoch 53/100\n",
            "1875/1875 [==============================] - 5s 3ms/step - loss: 0.0629 - accuracy: 0.9814 - val_loss: 0.0931 - val_accuracy: 0.9755\n",
            "Epoch 54/100\n",
            "1875/1875 [==============================] - 5s 3ms/step - loss: 0.0587 - accuracy: 0.9824 - val_loss: 0.1000 - val_accuracy: 0.9756\n",
            "Epoch 55/100\n",
            "1875/1875 [==============================] - 5s 3ms/step - loss: 0.0591 - accuracy: 0.9822 - val_loss: 0.0968 - val_accuracy: 0.9772\n",
            "Epoch 56/100\n",
            "1875/1875 [==============================] - 5s 3ms/step - loss: 0.0596 - accuracy: 0.9813 - val_loss: 0.0983 - val_accuracy: 0.9773\n",
            "Epoch 57/100\n",
            "1875/1875 [==============================] - 5s 3ms/step - loss: 0.0568 - accuracy: 0.9828 - val_loss: 0.1033 - val_accuracy: 0.9752\n",
            "Epoch 58/100\n",
            "1875/1875 [==============================] - 5s 3ms/step - loss: 0.0547 - accuracy: 0.9826 - val_loss: 0.1074 - val_accuracy: 0.9757\n",
            "Epoch 59/100\n",
            "1875/1875 [==============================] - 5s 3ms/step - loss: 0.0570 - accuracy: 0.9820 - val_loss: 0.1011 - val_accuracy: 0.9770\n",
            "Epoch 60/100\n",
            "1875/1875 [==============================] - 5s 3ms/step - loss: 0.0586 - accuracy: 0.9822 - val_loss: 0.0991 - val_accuracy: 0.9764\n",
            "Epoch 61/100\n",
            "1875/1875 [==============================] - 5s 3ms/step - loss: 0.0581 - accuracy: 0.9829 - val_loss: 0.0917 - val_accuracy: 0.9785\n",
            "Epoch 62/100\n",
            "1875/1875 [==============================] - 5s 3ms/step - loss: 0.0562 - accuracy: 0.9823 - val_loss: 0.0973 - val_accuracy: 0.9791\n",
            "Epoch 63/100\n",
            "1875/1875 [==============================] - 5s 3ms/step - loss: 0.0563 - accuracy: 0.9825 - val_loss: 0.0951 - val_accuracy: 0.9773\n",
            "Epoch 64/100\n",
            "1875/1875 [==============================] - 5s 3ms/step - loss: 0.0584 - accuracy: 0.9821 - val_loss: 0.0990 - val_accuracy: 0.9789\n",
            "Epoch 65/100\n",
            "1875/1875 [==============================] - 5s 3ms/step - loss: 0.0571 - accuracy: 0.9826 - val_loss: 0.0955 - val_accuracy: 0.9760\n",
            "Epoch 66/100\n",
            "1875/1875 [==============================] - 5s 3ms/step - loss: 0.0592 - accuracy: 0.9821 - val_loss: 0.0967 - val_accuracy: 0.9764\n",
            "Epoch 67/100\n",
            "1875/1875 [==============================] - 5s 3ms/step - loss: 0.0551 - accuracy: 0.9836 - val_loss: 0.0978 - val_accuracy: 0.9773\n",
            "Epoch 68/100\n",
            "1875/1875 [==============================] - 5s 3ms/step - loss: 0.0560 - accuracy: 0.9828 - val_loss: 0.0985 - val_accuracy: 0.9770\n",
            "Epoch 69/100\n",
            "1875/1875 [==============================] - 5s 3ms/step - loss: 0.0556 - accuracy: 0.9833 - val_loss: 0.1035 - val_accuracy: 0.9751\n",
            "Epoch 70/100\n",
            "1875/1875 [==============================] - 5s 3ms/step - loss: 0.0556 - accuracy: 0.9833 - val_loss: 0.1007 - val_accuracy: 0.9771\n",
            "Epoch 71/100\n",
            "1875/1875 [==============================] - 5s 3ms/step - loss: 0.0539 - accuracy: 0.9834 - val_loss: 0.1030 - val_accuracy: 0.9773\n",
            "Epoch 72/100\n",
            "1875/1875 [==============================] - 6s 3ms/step - loss: 0.0549 - accuracy: 0.9836 - val_loss: 0.1051 - val_accuracy: 0.9776\n",
            "Epoch 73/100\n",
            "1875/1875 [==============================] - 5s 3ms/step - loss: 0.0538 - accuracy: 0.9841 - val_loss: 0.1110 - val_accuracy: 0.9761\n",
            "Epoch 74/100\n",
            "1875/1875 [==============================] - 5s 3ms/step - loss: 0.0552 - accuracy: 0.9831 - val_loss: 0.1081 - val_accuracy: 0.9770\n",
            "Epoch 75/100\n",
            "1875/1875 [==============================] - 5s 3ms/step - loss: 0.0506 - accuracy: 0.9845 - val_loss: 0.1089 - val_accuracy: 0.9780\n",
            "Epoch 76/100\n",
            "1875/1875 [==============================] - 5s 3ms/step - loss: 0.0558 - accuracy: 0.9833 - val_loss: 0.1143 - val_accuracy: 0.9763\n",
            "Epoch 77/100\n",
            "1875/1875 [==============================] - 5s 3ms/step - loss: 0.0543 - accuracy: 0.9836 - val_loss: 0.1084 - val_accuracy: 0.9782\n",
            "Epoch 78/100\n",
            "1875/1875 [==============================] - 5s 3ms/step - loss: 0.0504 - accuracy: 0.9838 - val_loss: 0.1144 - val_accuracy: 0.9765\n",
            "Epoch 79/100\n",
            "1875/1875 [==============================] - 5s 3ms/step - loss: 0.0534 - accuracy: 0.9840 - val_loss: 0.1097 - val_accuracy: 0.9764\n",
            "Epoch 80/100\n",
            "1875/1875 [==============================] - 5s 3ms/step - loss: 0.0538 - accuracy: 0.9844 - val_loss: 0.1065 - val_accuracy: 0.9773\n",
            "Epoch 81/100\n",
            "1875/1875 [==============================] - 5s 3ms/step - loss: 0.0535 - accuracy: 0.9843 - val_loss: 0.1038 - val_accuracy: 0.9765\n",
            "Epoch 82/100\n",
            "1875/1875 [==============================] - 5s 3ms/step - loss: 0.0528 - accuracy: 0.9841 - val_loss: 0.1079 - val_accuracy: 0.9768\n",
            "Epoch 83/100\n",
            "1875/1875 [==============================] - 5s 3ms/step - loss: 0.0495 - accuracy: 0.9853 - val_loss: 0.1000 - val_accuracy: 0.9779\n",
            "Epoch 84/100\n",
            "1875/1875 [==============================] - 5s 3ms/step - loss: 0.0510 - accuracy: 0.9843 - val_loss: 0.1141 - val_accuracy: 0.9764\n",
            "Epoch 85/100\n",
            "1875/1875 [==============================] - 5s 3ms/step - loss: 0.0497 - accuracy: 0.9851 - val_loss: 0.1188 - val_accuracy: 0.9772\n",
            "Epoch 86/100\n",
            "1875/1875 [==============================] - 5s 3ms/step - loss: 0.0502 - accuracy: 0.9850 - val_loss: 0.1068 - val_accuracy: 0.9774\n",
            "Epoch 87/100\n",
            "1875/1875 [==============================] - 5s 3ms/step - loss: 0.0524 - accuracy: 0.9841 - val_loss: 0.1150 - val_accuracy: 0.9779\n",
            "Epoch 88/100\n",
            "1875/1875 [==============================] - 7s 4ms/step - loss: 0.0510 - accuracy: 0.9847 - val_loss: 0.1163 - val_accuracy: 0.9757\n",
            "Epoch 89/100\n",
            "1875/1875 [==============================] - 5s 3ms/step - loss: 0.0503 - accuracy: 0.9851 - val_loss: 0.1152 - val_accuracy: 0.9756\n",
            "Epoch 90/100\n",
            "1875/1875 [==============================] - 5s 3ms/step - loss: 0.0534 - accuracy: 0.9847 - val_loss: 0.1020 - val_accuracy: 0.9774\n",
            "Epoch 91/100\n",
            "1875/1875 [==============================] - 7s 4ms/step - loss: 0.0502 - accuracy: 0.9848 - val_loss: 0.1107 - val_accuracy: 0.9761\n",
            "Epoch 92/100\n",
            "1875/1875 [==============================] - 5s 3ms/step - loss: 0.0514 - accuracy: 0.9849 - val_loss: 0.1131 - val_accuracy: 0.9767\n",
            "Epoch 93/100\n",
            "1875/1875 [==============================] - 5s 3ms/step - loss: 0.0500 - accuracy: 0.9853 - val_loss: 0.1082 - val_accuracy: 0.9760\n",
            "Epoch 94/100\n",
            "1875/1875 [==============================] - 6s 3ms/step - loss: 0.0490 - accuracy: 0.9851 - val_loss: 0.1149 - val_accuracy: 0.9765\n",
            "Epoch 95/100\n",
            "1875/1875 [==============================] - 7s 4ms/step - loss: 0.0514 - accuracy: 0.9847 - val_loss: 0.1006 - val_accuracy: 0.9769\n",
            "Epoch 96/100\n",
            "1875/1875 [==============================] - 5s 3ms/step - loss: 0.0492 - accuracy: 0.9850 - val_loss: 0.1048 - val_accuracy: 0.9770\n",
            "Epoch 97/100\n",
            "1875/1875 [==============================] - 5s 3ms/step - loss: 0.0512 - accuracy: 0.9851 - val_loss: 0.1146 - val_accuracy: 0.9761\n",
            "Epoch 98/100\n",
            "1875/1875 [==============================] - 5s 3ms/step - loss: 0.0492 - accuracy: 0.9851 - val_loss: 0.1106 - val_accuracy: 0.9764\n",
            "Epoch 99/100\n",
            "1875/1875 [==============================] - 6s 3ms/step - loss: 0.0483 - accuracy: 0.9860 - val_loss: 0.1092 - val_accuracy: 0.9772\n",
            "Epoch 100/100\n",
            "1875/1875 [==============================] - 5s 3ms/step - loss: 0.0494 - accuracy: 0.9858 - val_loss: 0.1100 - val_accuracy: 0.9776\n"
          ]
        }
      ],
      "source": [
        "# - Using the validation database\n",
        "# - On the 'history' variable we have the history of executions (error and ac)\n",
        "neural_network.compile(optimizer = 'adam', loss = 'categorical_crossentropy',\n",
        "               metrics = ['accuracy'])\n",
        "\n",
        "history = neural_network.fit(X_train, y_train, epochs = 100,\n",
        "                       validation_data = (X_test, y_test))"
      ]
    },
    {
      "cell_type": "code",
      "execution_count": 60,
      "metadata": {
        "colab": {
          "base_uri": "https://localhost:8080/",
          "height": 300
        },
        "id": "9fGEVF-rSZic",
        "outputId": "11936e49-69e3-4206-979f-9f9c9d6c9b20"
      },
      "outputs": [
        {
          "output_type": "stream",
          "name": "stdout",
          "text": [
            "dict_keys(['loss', 'accuracy', 'val_loss', 'val_accuracy'])\n"
          ]
        },
        {
          "output_type": "execute_result",
          "data": {
            "text/plain": [
              "[<matplotlib.lines.Line2D at 0x7f18cce430d0>]"
            ]
          },
          "metadata": {},
          "execution_count": 60
        },
        {
          "output_type": "display_data",
          "data": {
            "text/plain": [
              "<Figure size 432x288 with 1 Axes>"
            ],
            "image/png": "[encoded data removed]"
          },
          "metadata": {
            "needs_background": "light"
          }
        }
      ],
      "source": [
        "# Visualizing errors and accuracy\n",
        "print(history.history.keys())\n",
        "\n",
        "# Network error, blue\n",
        "plt.plot(history.history['val_loss'])\n",
        "\n",
        "# Network performance\n",
        "plt.plot(history.history['val_accuracy'])\n"
      ]
    },
    {
      "cell_type": "code",
      "execution_count": 61,
      "metadata": {
        "colab": {
          "base_uri": "https://localhost:8080/"
        },
        "id": "_qHsWUfPSZid",
        "outputId": "cf9df698-9152-4359-ad1a-88f58e625256"
      },
      "outputs": [
        {
          "output_type": "execute_result",
          "data": {
            "text/plain": [
              "array([[3.8553983e-18, 3.1340006e-09, 1.0378201e-08, ..., 1.0000000e+00,\n",
              "        1.6937921e-15, 3.4591230e-10],\n",
              "       [3.4774003e-14, 8.0312390e-13, 1.0000000e+00, ..., 1.7102331e-13,\n",
              "        2.1524870e-16, 2.8707696e-16],\n",
              "       [1.2672945e-24, 1.0000000e+00, 1.3760570e-10, ..., 5.1481541e-10,\n",
              "        6.2624455e-17, 1.9898045e-18],\n",
              "       ...,\n",
              "       [1.5719781e-16, 1.6038539e-09, 6.1659032e-11, ..., 1.1716272e-08,\n",
              "        4.1118020e-13, 1.9888168e-08],\n",
              "       [1.7880123e-22, 2.6458132e-19, 2.4371143e-17, ..., 1.3662631e-17,\n",
              "        1.0896093e-15, 7.7153796e-17],\n",
              "       [8.2032490e-15, 9.4195348e-24, 2.5490554e-14, ..., 2.1374105e-28,\n",
              "        2.4382941e-18, 2.0414476e-19]], dtype=float32)"
            ]
          },
          "metadata": {},
          "execution_count": 61
        }
      ],
      "source": [
        "# Getting the predictions\n",
        "predictions = neural_network.predict(X_test)\n",
        "predictions"
      ]
    },
    {
      "cell_type": "code",
      "execution_count": 62,
      "metadata": {
        "colab": {
          "base_uri": "https://localhost:8080/"
        },
        "id": "iAOBs69dSZid",
        "outputId": "9970f308-eb08-4adb-dbb0-0f05c7312ec5"
      },
      "outputs": [
        {
          "output_type": "execute_result",
          "data": {
            "text/plain": [
              "array([[ 968,    1,    1,    1,    1,    1,    1,    3,    2,    1],\n",
              "       [   0, 1123,    4,    0,    0,    1,    2,    1,    4,    0],\n",
              "       [   1,    1, 1015,    1,    1,    0,    2,    6,    4,    1],\n",
              "       [   0,    0,    4,  990,    0,    4,    0,    4,    4,    4],\n",
              "       [   2,    1,    4,    0,  953,    0,    7,    0,    0,   15],\n",
              "       [   3,    0,    0,   10,    1,  866,    4,    1,    4,    3],\n",
              "       [   5,    3,    2,    0,    3,    5,  939,    0,    1,    0],\n",
              "       [   2,    5,   10,    2,    1,    0,    0,  999,    1,    8],\n",
              "       [   5,    2,    6,    4,    4,    7,    0,    5,  936,    5],\n",
              "       [   2,    4,    0,    4,    5,    1,    0,    5,    1,  987]])"
            ]
          },
          "metadata": {},
          "execution_count": 62
        }
      ],
      "source": [
        "# Confusion Matrix\n",
        "y_test_matrix = [np.argmax(t) for t in y_test]\n",
        "y_predictions_matrix = [np.argmax(t) for t in predictions]\n",
        "\n",
        "conf_matrix = confusion_matrix(y_test_matrix, y_predictions_matrix)\n",
        "conf_matrix\n",
        "\n",
        "# GOOD PERFORMANCE"
      ]
    },
    {
      "cell_type": "markdown",
      "source": [
        "## ***Testing the Model***"
      ],
      "metadata": {
        "id": "Kt3FWyfdj7u8"
      }
    },
    {
      "cell_type": "code",
      "execution_count": 63,
      "metadata": {
        "colab": {
          "base_uri": "https://localhost:8080/"
        },
        "id": "N5DonGXTSZid",
        "outputId": "b290c886-bb23-493a-becb-b6dae3828110"
      },
      "outputs": [
        {
          "output_type": "execute_result",
          "data": {
            "text/plain": [
              "array([0., 0., 0., 0., 1., 0., 0., 0., 0., 0.], dtype=float32)"
            ]
          },
          "metadata": {},
          "execution_count": 63
        }
      ],
      "source": [
        "# Testing with a new data, formating the array to a matrix\n",
        "y_train[20]\n",
        "\n",
        "# Number 4"
      ]
    },
    {
      "cell_type": "code",
      "execution_count": 65,
      "metadata": {
        "colab": {
          "base_uri": "https://localhost:8080/"
        },
        "id": "6j60MTBKSZie",
        "outputId": "1d45ce9f-938c-4eeb-d704-3b72647f75ea"
      },
      "outputs": [
        {
          "output_type": "execute_result",
          "data": {
            "text/plain": [
              "[4]"
            ]
          },
          "metadata": {},
          "execution_count": 65
        }
      ],
      "source": [
        "# Passing the same position for the model to predict\n",
        "new_data = X_train[20]\n",
        "\n",
        "# From matrix to vector\n",
        "new_data = np.expand_dims(new_data, axis = 0) # Expande o tamanho do array\n",
        "\n",
        "# Prediction\n",
        "prediction = neural_network.predict(new_data)\n",
        "\n",
        "# Highest value\n",
        "prediction = [np.argmax(prediction) for t in prediction]\n",
        "prediction\n",
        "\n",
        "# PREDITION CORRECT"
      ]
    }
  ],
  "metadata": {
    "interpreter": {
      "hash": "343f115f40a8053497179efaaabbcede37074ddc2d78a1917bbcb3055274ce2f"
    },
    "kernelspec": {
      "display_name": "Python 3",
      "language": "python",
      "name": "python3"
    },
    "language_info": {
      "codemirror_mode": {
        "name": "ipython",
        "version": 3
      },
      "file_extension": ".py",
      "mimetype": "text/x-python",
      "name": "python",
      "nbconvert_exporter": "python",
      "pygments_lexer": "ipython3",
      "version": "3.8.8"
    },
    "colab": {
      "name": "Deep_Learning.ipynb",
      "provenance": [],
      "collapsed_sections": [],
      "include_colab_link": true
    }
  },
  "nbformat": 4,
  "nbformat_minor": 0
}